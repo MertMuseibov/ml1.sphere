{
 "cells": [
  {
   "cell_type": "markdown",
   "metadata": {},
   "source": [
    "**Общая информация**\n",
    "\n",
    "**Срок сдачи:** 16 марта 2020, 08:30 \n",
    "\n",
    "**Штраф за опоздание:** по 1 баллу за 24 часа задержки. Через 5 дней домашнее задание сгорает.\n",
    "\n",
    "При отправлении ДЗ указывайте фамилию в названии файла\n",
    "Присылать ДЗ необходимо в виде ссылки на свой github репозиторий на почту ml1.sphere@mail.ru с указанием темы в следующем формате:\n",
    "\n",
    "[ML0220, Задание 1] Фамилия Имя.\n",
    "\n",
    "Используйте данный Ipython Notebook при оформлении домашнего задания."
   ]
  },
  {
   "cell_type": "markdown",
   "metadata": {},
   "source": [
    "\n",
    "**Штрафные баллы:**\n",
    "\n",
    "1. Отсутствие фамилии в имени скрипта (скрипт должен называться по аналогии со stroykova_hw1.ipynb) -0.5 баллов\n",
    "2. Все строчки должны быть выполнены. Нужно, чтобы output команды можно было увидеть уже в git'е. В противном случае -0.5 баллов\n"
   ]
  },
  {
   "cell_type": "code",
   "execution_count": 1,
   "metadata": {
    "ExecuteTime": {
     "end_time": "2020-03-08T12:47:58.808798Z",
     "start_time": "2020-03-08T12:47:56.772896Z"
    }
   },
   "outputs": [],
   "source": [
    "import numpy as np\n",
    "import pandas as pd\n",
    "from scipy.spatial.distance import cdist\n",
    "import matplotlib.pyplot as plt\n",
    "\n",
    "import seaborn as sns\n",
    "from sklearn import datasets\n",
    "from sklearn.base import BaseEstimator\n",
    "from sklearn.datasets import fetch_mldata, fetch_20newsgroups\n",
    "\n",
    "from sklearn.model_selection import train_test_split\n",
    "from sklearn.neighbors import KNeighborsClassifier\n",
    "from sklearn.metrics import accuracy_score"
   ]
  },
  {
   "cell_type": "markdown",
   "metadata": {},
   "source": [
    "##### Задание 1 (1 балл)\n",
    "Реализовать KNN в классе MyKNeighborsClassifier (обязательное условие: точность не ниже sklearn реализации)\n",
    "Разберитесь самостоятельно, какая мера расстояния используется в KNeighborsClassifier дефолтно и реализуйте свой алгоритм именно с этой мерой. \n",
    "Для подсчета расстояний можно использовать функции [отсюда](https://docs.scipy.org/doc/scipy/reference/spatial.distance.html)"
   ]
  },
  {
   "cell_type": "code",
   "execution_count": 67,
   "metadata": {
    "ExecuteTime": {
     "end_time": "2020-03-08T16:27:50.844822Z",
     "start_time": "2020-03-08T16:27:50.833617Z"
    }
   },
   "outputs": [],
   "source": [
    "class MyKNeighborsClassifier(BaseEstimator):\n",
    "    \n",
    "    def __init__(self, n_neighbors, algorithm='brute'):\n",
    "        self.n_neighbors = n_neighbors\n",
    "        if 'metric' in locals():\n",
    "            self.metric = metric\n",
    "        else:\n",
    "            self.metric = 'euclidean'\n",
    "    \n",
    "    def fit(self, X, y):\n",
    "        pass\n",
    "    \n",
    "    def predict(self, X):\n",
    "        numberOfClasses = 3\n",
    "        my_pred = [] \n",
    "        for testPoint in X_test:\n",
    "            testDist = [ [cdist([testPoint], [X_train[i]], self.metric), y_train[i]] for i in range(len(X_train)) ]\n",
    "            stat = np.array([0 for i in range(numberOfClasses)])\n",
    "            for d in sorted(testDist)[0:self.n_neighbors]:\n",
    "                stat[d[1]] += 1\n",
    "            my_pred.append(stat.argmax())\n",
    "        return my_pred"
   ]
  },
  {
   "cell_type": "code",
   "execution_count": 47,
   "metadata": {
    "ExecuteTime": {
     "end_time": "2020-03-08T16:15:04.112034Z",
     "start_time": "2020-03-08T16:15:04.101610Z"
    }
   },
   "outputs": [
    {
     "data": {
      "text/plain": [
       "array([1, 2, 3, 4])"
      ]
     },
     "execution_count": 47,
     "metadata": {},
     "output_type": "execute_result"
    }
   ],
   "source": [
    "# a = np.array([1, 2, 3])\n",
    "# np.append(a, 4)"
   ]
  },
  {
   "cell_type": "markdown",
   "metadata": {},
   "source": [
    "**IRIS**\n",
    "\n",
    "В библиотеке scikit-learn есть несколько датасетов из коробки. Один из них [Ирисы Фишера](https://ru.wikipedia.org/wiki/%D0%98%D1%80%D0%B8%D1%81%D1%8B_%D0%A4%D0%B8%D1%88%D0%B5%D1%80%D0%B0)"
   ]
  },
  {
   "cell_type": "code",
   "execution_count": 68,
   "metadata": {
    "ExecuteTime": {
     "end_time": "2020-03-08T16:28:49.794607Z",
     "start_time": "2020-03-08T16:28:49.783421Z"
    }
   },
   "outputs": [],
   "source": [
    "iris = datasets.load_iris()"
   ]
  },
  {
   "cell_type": "code",
   "execution_count": 69,
   "metadata": {
    "ExecuteTime": {
     "end_time": "2020-03-08T16:29:01.370548Z",
     "start_time": "2020-03-08T16:29:01.362590Z"
    }
   },
   "outputs": [],
   "source": [
    "X_train, X_test, y_train, y_test = train_test_split(iris.data, iris.target, test_size=0.1, stratify=iris.target)"
   ]
  },
  {
   "cell_type": "code",
   "execution_count": 63,
   "metadata": {
    "ExecuteTime": {
     "end_time": "2020-03-08T16:19:36.976610Z",
     "start_time": "2020-03-08T16:19:36.970362Z"
    }
   },
   "outputs": [],
   "source": [
    "clf = KNeighborsClassifier(n_neighbors=2, algorithm='brute')\n",
    "my_clf = MyKNeighborsClassifier(n_neighbors=2, algorithm='brute')"
   ]
  },
  {
   "cell_type": "code",
   "execution_count": 64,
   "metadata": {
    "ExecuteTime": {
     "end_time": "2020-03-08T16:19:37.972397Z",
     "start_time": "2020-03-08T16:19:37.966688Z"
    }
   },
   "outputs": [],
   "source": [
    "clf.fit(X_train, y_train)\n",
    "my_clf.fit(X_train, y_train)"
   ]
  },
  {
   "cell_type": "code",
   "execution_count": 65,
   "metadata": {
    "ExecuteTime": {
     "end_time": "2020-03-08T16:19:39.322305Z",
     "start_time": "2020-03-08T16:19:39.241004Z"
    }
   },
   "outputs": [],
   "source": [
    "sklearn_pred = clf.predict(X_test)\n",
    "my_clf_pred = my_clf.predict(X_test)\n",
    "assert abs( accuracy_score(y_test, my_clf_pred) -  accuracy_score(y_test, sklearn_pred) )<0.005, \"Score must be simillar\""
   ]
  },
  {
   "cell_type": "markdown",
   "metadata": {},
   "source": [
    "**Задание 2 (0.5 балла)**\n",
    "\n",
    "Давайте попробуем добиться скорости работы на fit, predict сравнимой со sklearn для iris. Допускается замедление не более чем в 2 раза. \n",
    "Для этого используем numpy. "
   ]
  },
  {
   "cell_type": "code",
   "execution_count": 8,
   "metadata": {
    "ExecuteTime": {
     "end_time": "2020-03-08T12:47:59.046481Z",
     "start_time": "2020-03-08T12:47:59.037768Z"
    }
   },
   "outputs": [],
   "source": [
    "# %time clf.fit(X_train, y_train)"
   ]
  },
  {
   "cell_type": "code",
   "execution_count": 9,
   "metadata": {
    "ExecuteTime": {
     "end_time": "2020-03-08T12:47:59.060968Z",
     "start_time": "2020-03-08T12:47:59.054215Z"
    }
   },
   "outputs": [],
   "source": [
    "# %time my_clf.fit(X_train, y_train)"
   ]
  },
  {
   "cell_type": "code",
   "execution_count": 10,
   "metadata": {
    "ExecuteTime": {
     "end_time": "2020-03-08T12:47:59.081110Z",
     "start_time": "2020-03-08T12:47:59.072013Z"
    }
   },
   "outputs": [],
   "source": [
    "# %time clf.predict(X_test)"
   ]
  },
  {
   "cell_type": "code",
   "execution_count": 11,
   "metadata": {
    "ExecuteTime": {
     "end_time": "2020-03-08T12:47:59.094945Z",
     "start_time": "2020-03-08T12:47:59.085322Z"
    }
   },
   "outputs": [],
   "source": [
    "# %time my_clf.predict(X_test)"
   ]
  },
  {
   "cell_type": "markdown",
   "metadata": {},
   "source": [
    "###### Задание 3 (1 балл)\n",
    "Добавьте algorithm='kd_tree' в реализацию KNN (использовать KDTree из sklearn.neighbors). Необходимо добиться скорости работы на fit,  predict сравнимой со sklearn для iris. Допускается замедление не более чем в 2 раза. \n",
    "Для этого используем numpy. Точность не должна уступать значению KNN из sklearn. "
   ]
  },
  {
   "cell_type": "code",
   "execution_count": 12,
   "metadata": {
    "ExecuteTime": {
     "end_time": "2020-03-08T12:47:59.111088Z",
     "start_time": "2020-03-08T12:47:59.103514Z"
    }
   },
   "outputs": [],
   "source": [
    "# clf = KNeighborsClassifier(n_neighbors=2, algorithm='kd_tree')\n",
    "# my_clf = MyKNeighborsClassifier(n_neighbors=2, algorithm='kd_tree')"
   ]
  },
  {
   "cell_type": "code",
   "execution_count": 13,
   "metadata": {
    "ExecuteTime": {
     "end_time": "2020-03-08T12:47:59.126905Z",
     "start_time": "2020-03-08T12:47:59.120951Z"
    }
   },
   "outputs": [],
   "source": [
    "# X_train, X_test, y_train, y_test = train_test_split(iris.data, iris.target, test_size=0.1, stratify=iris.target)"
   ]
  },
  {
   "cell_type": "code",
   "execution_count": 14,
   "metadata": {
    "ExecuteTime": {
     "end_time": "2020-03-08T12:47:59.146786Z",
     "start_time": "2020-03-08T12:47:59.134599Z"
    }
   },
   "outputs": [],
   "source": [
    "# %time clf.fit(X_train, y_train)"
   ]
  },
  {
   "cell_type": "code",
   "execution_count": 15,
   "metadata": {
    "ExecuteTime": {
     "end_time": "2020-03-08T12:47:59.160174Z",
     "start_time": "2020-03-08T12:47:59.154003Z"
    }
   },
   "outputs": [],
   "source": [
    "# %time my_clf.fit(X_train, y_train)"
   ]
  },
  {
   "cell_type": "code",
   "execution_count": 16,
   "metadata": {
    "ExecuteTime": {
     "end_time": "2020-03-08T12:47:59.174079Z",
     "start_time": "2020-03-08T12:47:59.166189Z"
    }
   },
   "outputs": [],
   "source": [
    "# %time clf.predict(X_test)"
   ]
  },
  {
   "cell_type": "code",
   "execution_count": 17,
   "metadata": {
    "ExecuteTime": {
     "end_time": "2020-03-08T12:47:59.183762Z",
     "start_time": "2020-03-08T12:47:59.178397Z"
    }
   },
   "outputs": [],
   "source": [
    "# %time my_clf.predict(X_test)"
   ]
  },
  {
   "cell_type": "code",
   "execution_count": 18,
   "metadata": {
    "ExecuteTime": {
     "end_time": "2020-03-08T12:47:59.200759Z",
     "start_time": "2020-03-08T12:47:59.191904Z"
    }
   },
   "outputs": [],
   "source": [
    "# sklearn_pred = clf.predict(X_test)\n",
    "# my_clf_pred = my_clf.predict(X_test)\n",
    "# assert abs( accuracy_score(y_test, my_clf_pred) -  accuracy_score(y_test, sklearn_pred ) )<0.005, \"Score must be simillar\""
   ]
  },
  {
   "cell_type": "markdown",
   "metadata": {},
   "source": [
    "**Задание 4 (2.5 балла)**\n",
    "\n",
    "Рассмотрим новый датасет 20 newsgroups"
   ]
  },
  {
   "cell_type": "code",
   "execution_count": 19,
   "metadata": {
    "ExecuteTime": {
     "end_time": "2020-03-08T12:48:01.026388Z",
     "start_time": "2020-03-08T12:47:59.205567Z"
    }
   },
   "outputs": [],
   "source": [
    "newsgroups = fetch_20newsgroups(subset='train',remove=['headers','footers', 'quotes'])"
   ]
  },
  {
   "cell_type": "code",
   "execution_count": 20,
   "metadata": {
    "ExecuteTime": {
     "end_time": "2020-03-08T12:48:01.041695Z",
     "start_time": "2020-03-08T12:48:01.033396Z"
    }
   },
   "outputs": [],
   "source": [
    "data = newsgroups['data']\n",
    "target = newsgroups['target']"
   ]
  },
  {
   "cell_type": "markdown",
   "metadata": {},
   "source": [
    "Преобразуйте текстовые данные из data с помощью [CountVectorizer](https://scikit-learn.org/stable/modules/generated/sklearn.feature_extraction.text.CountVectorizer.html). Словарь можно ограничить по частотности."
   ]
  },
  {
   "cell_type": "code",
   "execution_count": 21,
   "metadata": {
    "ExecuteTime": {
     "end_time": "2020-03-08T12:48:03.904020Z",
     "start_time": "2020-03-08T12:48:01.049045Z"
    }
   },
   "outputs": [],
   "source": [
    "from sklearn.feature_extraction.text import CountVectorizer\n",
    "vectorizer = CountVectorizer()\n",
    "X = vectorizer.fit_transform(data)"
   ]
  },
  {
   "cell_type": "code",
   "execution_count": 74,
   "metadata": {
    "ExecuteTime": {
     "end_time": "2020-03-08T17:40:37.526697Z",
     "start_time": "2020-03-08T17:40:37.519684Z"
    }
   },
   "outputs": [],
   "source": [
    "# print(X.toarray().shape)"
   ]
  },
  {
   "cell_type": "markdown",
   "metadata": {},
   "source": [
    "*Так мы получили векторное представление наших текстов. Значит можно приступать к задаче обучения модели*"
   ]
  },
  {
   "cell_type": "markdown",
   "metadata": {},
   "source": [
    "Реализуйте разбиение выборки для кросс-валидации на 3 фолдах. Разрешено использовать sklearn.cross_validation"
   ]
  },
  {
   "cell_type": "code",
   "execution_count": 23,
   "metadata": {
    "ExecuteTime": {
     "end_time": "2020-03-08T12:48:03.931875Z",
     "start_time": "2020-03-08T12:48:03.922920Z"
    }
   },
   "outputs": [],
   "source": [
    "from sklearn.model_selection import KFold\n",
    "kf = KFold(n_splits=3, shuffle=True, random_state=55)"
   ]
  },
  {
   "cell_type": "markdown",
   "metadata": {},
   "source": [
    "Напишите метод, позволяющий найти оптимальное количество ближайших соседей(дающее максимальную точность в среднем на валидации на 3 фолдах).\n",
    "Постройте график зависимости средней точности от количества соседей. Можно рассмотреть число соседей от 1 до 10."
   ]
  },
  {
   "cell_type": "code",
   "execution_count": 24,
   "metadata": {
    "ExecuteTime": {
     "end_time": "2020-03-08T12:48:03.951679Z",
     "start_time": "2020-03-08T12:48:03.940325Z"
    }
   },
   "outputs": [],
   "source": [
    "from sklearn.model_selection import cross_val_score"
   ]
  },
  {
   "cell_type": "code",
   "execution_count": 25,
   "metadata": {
    "ExecuteTime": {
     "end_time": "2020-03-08T12:49:15.102472Z",
     "start_time": "2020-03-08T12:48:03.958945Z"
    }
   },
   "outputs": [
    {
     "data": {
      "image/png": "[encoded data removed]",
      "text/plain": [
       "<Figure size 432x288 with 1 Axes>"
      ]
     },
     "metadata": {
      "needs_background": "light"
     },
     "output_type": "display_data"
    }
   ],
   "source": [
    "scores = []\n",
    "for i in range(1, 11):\n",
    "    my_clf = KNeighborsClassifier(n_neighbors=i, algorithm='brute')\n",
    "    score = cross_val_score(my_clf, X, target, cv=3, scoring='accuracy')\n",
    "    scores.append(score.mean())\n",
    "\n",
    "plt.plot(range(1, 11), scores, 'r')\n",
    "plt.ylabel('Средний score по трем фолдам'),\n",
    "plt.xlabel('Количество соседей')\n",
    "plt.title('Находим оптимальное количество ближайших соседей')\n",
    "plt.show()"
   ]
  },
  {
   "cell_type": "markdown",
   "metadata": {},
   "source": [
    "Как изменится качество на валидации, если:\n",
    "\n",
    "1. Используется косинусная метрика вместо евклидовой.\n",
    "2. К текстам применяется TfIdf векторизацию( sklearn.feature_extraction.text.TfidfVectorizer)\n",
    "\n",
    "Сравните модели, выберите лучшую."
   ]
  },
  {
   "cell_type": "code",
   "execution_count": 26,
   "metadata": {
    "ExecuteTime": {
     "end_time": "2020-03-08T12:50:25.848626Z",
     "start_time": "2020-03-08T12:49:15.106861Z"
    }
   },
   "outputs": [
    {
     "data": {
      "image/png": "[encoded data removed]",
      "text/plain": [
       "<Figure size 432x288 with 1 Axes>"
      ]
     },
     "metadata": {
      "needs_background": "light"
     },
     "output_type": "display_data"
    }
   ],
   "source": [
    "# metric='cosine'\n",
    "scores = []\n",
    "for i in range(1, 11):\n",
    "    my_clf = KNeighborsClassifier(n_neighbors=i, algorithm='brute', metric='cosine')\n",
    "    score = cross_val_score(my_clf, X, target, cv=3, scoring='accuracy')\n",
    "    scores.append(score.mean())\n",
    "\n",
    "plt.plot(range(1, 11), scores, 'r')\n",
    "plt.ylabel('Средний score по трем фолдам'),\n",
    "plt.xlabel('Количество соседей')\n",
    "plt.title('Находим оптимальное количество ближайших соседей (косинусная метрика)')\n",
    "plt.show()"
   ]
  },
  {
   "cell_type": "code",
   "execution_count": 27,
   "metadata": {
    "ExecuteTime": {
     "end_time": "2020-03-08T12:50:28.010045Z",
     "start_time": "2020-03-08T12:50:25.858338Z"
    }
   },
   "outputs": [],
   "source": [
    "# используем TfIdf\n",
    "from sklearn.feature_extraction.text import TfidfVectorizer\n",
    "vectorizer = TfidfVectorizer()\n",
    "X = vectorizer.fit_transform(data)"
   ]
  },
  {
   "cell_type": "code",
   "execution_count": 79,
   "metadata": {
    "ExecuteTime": {
     "end_time": "2020-03-08T18:01:35.767414Z",
     "start_time": "2020-03-08T18:01:35.761319Z"
    }
   },
   "outputs": [],
   "source": [
    "# print(X.toarray().shape)"
   ]
  },
  {
   "cell_type": "code",
   "execution_count": 29,
   "metadata": {
    "ExecuteTime": {
     "end_time": "2020-03-08T12:51:41.296287Z",
     "start_time": "2020-03-08T12:50:28.023781Z"
    }
   },
   "outputs": [
    {
     "data": {
      "image/png": "[encoded data removed]",
      "text/plain": [
       "<Figure size 432x288 with 1 Axes>"
      ]
     },
     "metadata": {
      "needs_background": "light"
     },
     "output_type": "display_data"
    }
   ],
   "source": [
    "# TfIdf\n",
    "scores = []\n",
    "for i in range(1, 11):\n",
    "    my_clf = KNeighborsClassifier(n_neighbors=i, algorithm='brute')\n",
    "    score = cross_val_score(my_clf, X, target, cv=3, scoring='accuracy')\n",
    "    scores.append(score.mean())\n",
    "\n",
    "plt.plot(range(1, 11), scores, 'r')\n",
    "plt.ylabel('Средний score по трем фолдам'),\n",
    "plt.xlabel('Количество соседей')\n",
    "plt.title('Находим оптимальное количество ближайших соседей (TfIdf)')\n",
    "plt.show()"
   ]
  },
  {
   "cell_type": "code",
   "execution_count": 30,
   "metadata": {
    "ExecuteTime": {
     "end_time": "2020-03-08T12:52:55.022224Z",
     "start_time": "2020-03-08T12:51:41.300503Z"
    }
   },
   "outputs": [
    {
     "data": {
      "image/png": "[encoded data removed]",
      "text/plain": [
       "<Figure size 432x288 with 1 Axes>"
      ]
     },
     "metadata": {
      "needs_background": "light"
     },
     "output_type": "display_data"
    }
   ],
   "source": [
    "# TfIdf\n",
    "# metric='cosine'\n",
    "scores = []\n",
    "for i in range(1, 11):\n",
    "    my_clf = KNeighborsClassifier(n_neighbors=i, algorithm='brute', metric='cosine')\n",
    "    score = cross_val_score(my_clf, X, target, cv=3, scoring='accuracy')\n",
    "    scores.append(score.mean())\n",
    "\n",
    "plt.plot(range(1, 11), scores, 'r')\n",
    "plt.ylabel('Средний score по трем фолдам'),\n",
    "plt.xlabel('Количество соседей')\n",
    "plt.title('Находим оптимальное количество ближайших соседей (TfIdf, косинусная метрика)')\n",
    "plt.show()"
   ]
  },
  {
   "cell_type": "code",
   "execution_count": 31,
   "metadata": {
    "ExecuteTime": {
     "end_time": "2020-03-08T12:53:01.676252Z",
     "start_time": "2020-03-08T12:52:55.026297Z"
    }
   },
   "outputs": [
    {
     "name": "stdout",
     "output_type": "stream",
     "text": [
      "score =  0.5957317107565182\n"
     ]
    }
   ],
   "source": [
    "# Лучший средний score получен при использовании TfIdf, косинусной метрики и одного ближайшего соседа\n",
    "my_clf = KNeighborsClassifier(n_neighbors=1, algorithm='brute', metric='cosine')\n",
    "score = cross_val_score(my_clf, X, target, cv=3, scoring='accuracy')\n",
    "print('score = ', score.mean())"
   ]
  },
  {
   "cell_type": "markdown",
   "metadata": {},
   "source": [
    "Загрузим  теперь test  часть нашей выборки и преобразуем её аналогично с train частью. Не забудьте, что наборы слов в train и test части могут отличаться."
   ]
  },
  {
   "cell_type": "code",
   "execution_count": 32,
   "metadata": {
    "ExecuteTime": {
     "end_time": "2020-03-08T12:53:02.707595Z",
     "start_time": "2020-03-08T12:53:01.679808Z"
    }
   },
   "outputs": [],
   "source": [
    "newsgroups = fetch_20newsgroups(subset='test',remove=['headers','footers', 'quotes'])"
   ]
  },
  {
   "cell_type": "code",
   "execution_count": 33,
   "metadata": {
    "ExecuteTime": {
     "end_time": "2020-03-08T12:53:02.717141Z",
     "start_time": "2020-03-08T12:53:02.710456Z"
    }
   },
   "outputs": [],
   "source": [
    "test_data = newsgroups['data']\n",
    "test_target = newsgroups['target']"
   ]
  },
  {
   "cell_type": "markdown",
   "metadata": {},
   "source": [
    "Оценим точность вашей лучшей модели на test части датасета. Отличается ли оно от кросс-валидации? Попробуйте сделать выводы, почему отличается качество."
   ]
  },
  {
   "cell_type": "code",
   "execution_count": 34,
   "metadata": {
    "ExecuteTime": {
     "end_time": "2020-03-08T12:53:04.075939Z",
     "start_time": "2020-03-08T12:53:02.721451Z"
    }
   },
   "outputs": [],
   "source": [
    "# преобразовываем тестовый текст\n",
    "vectorizer = TfidfVectorizer()\n",
    "test_X = vectorizer.fit_transform(test_data)"
   ]
  },
  {
   "cell_type": "code",
   "execution_count": 35,
   "metadata": {
    "ExecuteTime": {
     "end_time": "2020-03-08T12:53:06.911987Z",
     "start_time": "2020-03-08T12:53:04.078421Z"
    }
   },
   "outputs": [
    {
     "name": "stdout",
     "output_type": "stream",
     "text": [
      "score =  0.5643760354171712\n"
     ]
    }
   ],
   "source": [
    "# получаем тестовый score\n",
    "my_clf = KNeighborsClassifier(n_neighbors=1, algorithm='brute', metric='cosine')\n",
    "score = cross_val_score(my_clf, test_X, test_target, cv=3, scoring='accuracy')\n",
    "print('score = ', score.mean())"
   ]
  },
  {
   "cell_type": "markdown",
   "metadata": {},
   "source": [
    "Результат получился хуже на 0.031 тк мы оптимизировали наш алгоритм под данные, которые отличаются от тестовых\n",
    "\n",
    "На евклидовой метрике TfIdf показал себя хуже CountVectorizer, но при использовании TfIdf и косинусной метрики результат сильно взлетает \n",
    "\n",
    "Косинусная метрика при любом раскладе показала лучший результат чем евклидовая"
   ]
  }
 ],
 "metadata": {
  "kernelspec": {
   "display_name": "Python 3",
   "language": "python",
   "name": "python3"
  },
  "language_info": {
   "codemirror_mode": {
    "name": "ipython",
    "version": 3
   },
   "file_extension": ".py",
   "mimetype": "text/x-python",
   "name": "python",
   "nbconvert_exporter": "python",
   "pygments_lexer": "ipython3",
   "version": "3.7.4"
  }
 },
 "nbformat": 4,
 "nbformat_minor": 2
}
